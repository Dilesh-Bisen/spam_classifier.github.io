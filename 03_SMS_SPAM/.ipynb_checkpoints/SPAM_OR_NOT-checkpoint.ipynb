{
 "cells": [
  {
   "cell_type": "code",
   "execution_count": null,
   "id": "c8df2746-0c1a-4607-b2ba-d5f413420e5d",
   "metadata": {},
   "outputs": [],
   "source": [
    "import pandas as pd\n",
    "import numpy as np\n",
    "import matplotlib.pyplot as plt\n",
    "import seaborn as sns"
   ]
  },
  {
   "cell_type": "code",
   "execution_count": null,
   "id": "0cc1d308-c0db-4a32-b4b1-5eb9d707956c",
   "metadata": {},
   "outputs": [],
   "source": [
    "data = pd.read_csv('Dataset/spam.csv')\n",
    "data.head()"
   ]
  },
  {
   "cell_type": "code",
   "execution_count": null,
   "id": "67647d8d-0906-4064-8f0a-a5f4a67f7712",
   "metadata": {},
   "outputs": [],
   "source": [
    "data.drop(columns=data.columns[2:5], inplace=True)"
   ]
  },
  {
   "cell_type": "code",
   "execution_count": null,
   "id": "9b22d21b-e058-45a9-af90-1e0e195cd6bf",
   "metadata": {},
   "outputs": [],
   "source": [
    "data.rename(columns={'v1':'target','v2':'text'},inplace=True)"
   ]
  },
  {
   "cell_type": "code",
   "execution_count": null,
   "id": "aab44854-e2d0-4467-9ef2-96d684b56666",
   "metadata": {},
   "outputs": [],
   "source": [
    "from sklearn.preprocessing import LabelEncoder\n",
    "le = LabelEncoder()\n",
    "data['target'] = le.fit_transform(data['target'])"
   ]
  },
  {
   "cell_type": "code",
   "execution_count": null,
   "id": "5fbc9371-ca69-4ac8-b8e6-21a49d2bb723",
   "metadata": {},
   "outputs": [],
   "source": [
    "data.isnull().sum()"
   ]
  },
  {
   "cell_type": "code",
   "execution_count": null,
   "id": "f3203009-4f7f-4470-826a-dec09697e114",
   "metadata": {},
   "outputs": [],
   "source": [
    "data.duplicated().sum()"
   ]
  },
  {
   "cell_type": "code",
   "execution_count": null,
   "id": "1b9ebecb-387e-40b4-a352-9cb194e2dd32",
   "metadata": {},
   "outputs": [],
   "source": [
    "data = data.drop_duplicates(keep='first')"
   ]
  },
  {
   "cell_type": "code",
   "execution_count": null,
   "id": "e33319b7-b1dc-40ef-b4ce-231348cf9a83",
   "metadata": {},
   "outputs": [],
   "source": [
    "plt.pie(data['target'].value_counts().values, labels=['ham', 'spam'], autopct='%1.2f%%', startangle=140)\n",
    "plt.title('Distribution of Target Values')\n",
    "plt.show()"
   ]
  },
  {
   "cell_type": "code",
   "execution_count": null,
   "id": "eb50f9db-cd79-4a8a-a53a-4ad608972c5b",
   "metadata": {},
   "outputs": [],
   "source": [
    "data['characters'] = data['text'].apply(len)"
   ]
  },
  {
   "cell_type": "code",
   "execution_count": null,
   "id": "bd3dd758-1d3a-4dbe-a484-1f3a95ee0f97",
   "metadata": {},
   "outputs": [],
   "source": [
    "import nltk\n",
    "nltk.download('punkt')\n",
    "data['words'] = data['text'].apply(lambda x: len(nltk.word_tokenize(x)))"
   ]
  },
  {
   "cell_type": "code",
   "execution_count": null,
   "id": "02ca096b-1ed1-4f32-b717-39bb55aab201",
   "metadata": {},
   "outputs": [],
   "source": [
    "data['sentences'] = data['text'].apply(lambda x: len(nltk.sent_tokenize(x)))"
   ]
  },
  {
   "cell_type": "code",
   "execution_count": null,
   "id": "b6586621-877c-4803-8fb2-22bc52ece894",
   "metadata": {},
   "outputs": [],
   "source": [
    "data.head()"
   ]
  },
  {
   "cell_type": "code",
   "execution_count": null,
   "id": "94b11375-27f5-47b7-9f55-3cded1c3b891",
   "metadata": {},
   "outputs": [],
   "source": [
    "data[data.columns[2:5]].describe()"
   ]
  },
  {
   "cell_type": "code",
   "execution_count": null,
   "id": "cf5f9739-f6ba-455c-9813-9da0f39bda6a",
   "metadata": {},
   "outputs": [],
   "source": [
    "# for ham \n",
    "data[data['target']==0][data.columns[2:5]].describe()"
   ]
  },
  {
   "cell_type": "code",
   "execution_count": null,
   "id": "6317c1d2-0a53-4c2e-8999-349a40b72eb8",
   "metadata": {},
   "outputs": [],
   "source": [
    "# for spam \n",
    "data[data['target']==1][data.columns[2:5]].describe()"
   ]
  },
  {
   "cell_type": "code",
   "execution_count": null,
   "id": "e66169be-ed71-4d46-b3e5-9ed1dc2e1a40",
   "metadata": {},
   "outputs": [],
   "source": [
    "plt.figure(figsize=(10,6))\n",
    "sns.histplot(data[data['target']==0]['characters'])\n",
    "sns.histplot(data[data['target']==1]['characters'], color='red')"
   ]
  },
  {
   "cell_type": "code",
   "execution_count": null,
   "id": "fca49395-1031-45b2-9094-9bd31db18488",
   "metadata": {},
   "outputs": [],
   "source": [
    "plt.figure(figsize=(10,6))\n",
    "sns.histplot(data[data['target']==0]['words'])\n",
    "sns.histplot(data[data['target']==1]['words'], color='red')"
   ]
  },
  {
   "cell_type": "code",
   "execution_count": null,
   "id": "d2b1dde8-521c-410c-9c44-95b2b44687af",
   "metadata": {},
   "outputs": [],
   "source": [
    "plt.figure(figsize=(10,6))\n",
    "sns.histplot(data[data['target']==0]['sentences'])\n",
    "sns.histplot(data[data['target']==1]['sentences'], color='red')"
   ]
  },
  {
   "cell_type": "code",
   "execution_count": null,
   "id": "47087249-0d6c-462f-9f84-d44ec118e54d",
   "metadata": {},
   "outputs": [],
   "source": [
    "sns.pairplot(data,hue='target')"
   ]
  },
  {
   "cell_type": "code",
   "execution_count": null,
   "id": "56fa5a75-6006-4514-b15c-665399cba6fc",
   "metadata": {},
   "outputs": [],
   "source": [
    "sns.heatmap(data.iloc[:, [0, 2, 3, 4]].corr(),annot=True)"
   ]
  },
  {
   "cell_type": "code",
   "execution_count": null,
   "id": "e4891b73-070f-44da-8d16-4b1547e24af3",
   "metadata": {},
   "outputs": [],
   "source": []
  },
  {
   "cell_type": "code",
   "execution_count": null,
   "id": "84a8e961-1f53-43df-8815-b3185814ae97",
   "metadata": {},
   "outputs": [],
   "source": [
    "from nltk.corpus import stopwords\n",
    "nltk.download('stopwords')\n",
    "import string\n",
    "from nltk.stem.porter import PorterStemmer\n",
    "ps = PorterStemmer()\n",
    "\n",
    "def convert(text):\n",
    "    text = text.lower()\n",
    "    text = nltk.word_tokenize(text)\n",
    "\n",
    "    temp = []\n",
    "    for i in text:\n",
    "        if (i.isalnum() and (i not in stopwords.words('english') and string.punctuation)):\n",
    "            temp.append(ps.stem(i))\n",
    "    return \" \".join(temp)"
   ]
  },
  {
   "cell_type": "code",
   "execution_count": null,
   "id": "bb3c8858-9653-4499-8cec-0075ffb7e4fc",
   "metadata": {},
   "outputs": [],
   "source": [
    "data['converted_text'] = data['text'].apply(convert)"
   ]
  },
  {
   "cell_type": "code",
   "execution_count": null,
   "id": "1f8b062e-8ae1-4499-9a40-4036628bb246",
   "metadata": {},
   "outputs": [],
   "source": [
    "data.head()"
   ]
  },
  {
   "cell_type": "code",
   "execution_count": null,
   "id": "d8611b32-3a29-4423-8aa5-f1ab54fc03b5",
   "metadata": {},
   "outputs": [],
   "source": []
  },
  {
   "cell_type": "code",
   "execution_count": null,
   "id": "fbcb5b5f-884d-4559-bcd4-d8b25b5f61f4",
   "metadata": {},
   "outputs": [],
   "source": [
    "from wordcloud import WordCloud\n",
    "wc = WordCloud(width=500, height=500, min_font_size=10, max_font_size=200, colormap='viridis')"
   ]
  },
  {
   "cell_type": "code",
   "execution_count": null,
   "id": "179f4adb-0435-4738-9b25-7aeb005223e1",
   "metadata": {},
   "outputs": [],
   "source": [
    "spam_msg = wc.generate(data[data['target']==1]['converted_text'].str.cat(sep=\" \"))\n",
    "plt.figure(figsize=(8,8))\n",
    "plt.imshow(spam_msg, interpolation='bilinear')\n",
    "plt.axis('off')  \n",
    "plt.show()"
   ]
  },
  {
   "cell_type": "code",
   "execution_count": null,
   "id": "7c74099b-6173-415e-8c68-acdb63c801b8",
   "metadata": {},
   "outputs": [],
   "source": [
    "ham_msg = wc.generate(data[data['target']==0]['converted_text'].str.cat(sep=\" \"))\n",
    "plt.figure(figsize=(8,8))\n",
    "plt.imshow(ham_msg, interpolation='bilinear')\n",
    "plt.axis('off')  \n",
    "plt.show()"
   ]
  },
  {
   "cell_type": "code",
   "execution_count": null,
   "id": "e3f97018-0bdc-4138-84a2-5b92aacfc2cb",
   "metadata": {},
   "outputs": [],
   "source": []
  },
  {
   "cell_type": "code",
   "execution_count": null,
   "id": "b3e38976-d85d-4150-98af-b04d15f9ef83",
   "metadata": {},
   "outputs": [],
   "source": [
    "spam_corpus = []\n",
    "for msg in data[data['target']==1]['converted_text'].tolist():\n",
    "    for word in msg.split():\n",
    "        spam_corpus.append(word)"
   ]
  },
  {
   "cell_type": "code",
   "execution_count": null,
   "id": "5e75daba-8b19-4724-8cec-4ff651afa50d",
   "metadata": {},
   "outputs": [],
   "source": [
    "from collections import Counter \n",
    "\n",
    "spam_counter = Counter(spam_corpus)\n",
    "spam_data = pd.DataFrame(spam_counter.most_common(30), columns=['word', 'count'])\n",
    "\n",
    "sns.barplot(x='word', y='count', data=spam_data, hue='word', palette='viridis', legend=False)\n",
    "plt.xticks(rotation=90)\n",
    "plt.show()"
   ]
  },
  {
   "cell_type": "code",
   "execution_count": null,
   "id": "17ec8691-35f1-48bb-8540-53b6f8410ffb",
   "metadata": {},
   "outputs": [],
   "source": [
    "ham_corpus = []\n",
    "for msg in data[data['target']==0]['converted_text'].tolist():\n",
    "    for word in msg.split():\n",
    "        ham_corpus.append(word)"
   ]
  },
  {
   "cell_type": "code",
   "execution_count": null,
   "id": "741bd2dd-c070-48f1-99b7-adf30990454e",
   "metadata": {},
   "outputs": [],
   "source": [
    "from collections import Counter \n",
    "\n",
    "ham_counter = Counter(ham_corpus)\n",
    "ham_data = pd.DataFrame(ham_counter.most_common(30), columns=['word', 'count'])\n",
    "\n",
    "sns.barplot(x='word', y='count', data=ham_data, hue='word', palette='viridis', legend=False)\n",
    "plt.xticks(rotation=90)\n",
    "plt.show()"
   ]
  },
  {
   "cell_type": "code",
   "execution_count": null,
   "id": "f4a717f9-05dd-4f15-be51-c37923368a13",
   "metadata": {},
   "outputs": [],
   "source": []
  },
  {
   "cell_type": "code",
   "execution_count": null,
   "id": "d43ea832-e1fd-4923-8b81-2866bb41005c",
   "metadata": {},
   "outputs": [],
   "source": [
    "from sklearn.feature_extraction.text import CountVectorizer,TfidfVectorizer\n",
    "cv = CountVectorizer()\n",
    "tfv = TfidfVectorizer()"
   ]
  },
  {
   "cell_type": "code",
   "execution_count": null,
   "id": "e018593a-bb5a-4c9a-95ac-7cff88edebf8",
   "metadata": {},
   "outputs": [],
   "source": [
    "X1 = cv.fit_transform(data['converted_text']).toarray()\n",
    "Y1 = data['target'].values\n",
    "\n",
    "X2 = tfv.fit_transform(data['converted_text']).toarray()\n",
    "Y2 = data['target'].values"
   ]
  },
  {
   "cell_type": "code",
   "execution_count": null,
   "id": "77909d3c-1950-4c7c-b9b8-dd0a6027391a",
   "metadata": {},
   "outputs": [],
   "source": [
    "from sklearn.model_selection import train_test_split\n",
    "\n",
    "X_train1,X_test1,Y_train1,Y_test1 = train_test_split(X1,Y1,test_size=0.2,random_state=2)\n",
    "\n",
    "X_train2,X_test2,Y_train2,Y_test2 = train_test_split(X2,Y2,test_size=0.2,random_state=2)"
   ]
  },
  {
   "cell_type": "code",
   "execution_count": null,
   "id": "aa05ad6f-e4af-4ed2-a43e-9f43e74b2d09",
   "metadata": {},
   "outputs": [],
   "source": [
    "from sklearn.naive_bayes import GaussianNB,BernoulliNB,MultinomialNB\n",
    "from sklearn.metrics import accuracy_score,confusion_matrix,precision_score\n",
    "gnb = GaussianNB()\n",
    "bnb = BernoulliNB()\n",
    "mnb = MultinomialNB()"
   ]
  },
  {
   "cell_type": "code",
   "execution_count": null,
   "id": "962b1f02-4098-40e0-9c51-99fa18962e48",
   "metadata": {},
   "outputs": [],
   "source": [
    "print(\"GaussianNB:\")\n",
    "gnb.fit(X_train1,Y_train1)\n",
    "y_pred1 = gnb.predict(X_test1)\n",
    "print(\"accuracy_score :\",accuracy_score(Y_test1,y_pred1))\n",
    "print(\"confusion_matrix:\\n\",confusion_matrix(Y_test1,y_pred1))\n",
    "print(\"precision_score :\",precision_score(Y_test1,y_pred1))\n",
    "\n",
    "print(\"\\nBernoulliNB:\")\n",
    "bnb.fit(X_train1,Y_train1)\n",
    "y_pred2 = bnb.predict(X_test1)\n",
    "print(\"accuracy_score :\",accuracy_score(Y_test1,y_pred2))\n",
    "print(\"confusion_matrix :\\n\",confusion_matrix(Y_test1,y_pred2))\n",
    "print(\"precision_score :\",precision_score(Y_test1,y_pred2))\n",
    "\n",
    "print(\"\\nMultinomialNB:\")\n",
    "mnb.fit(X_train1,Y_train1)\n",
    "y_pred3 = mnb.predict(X_test1)\n",
    "print(\"accuracy_score :\",accuracy_score(Y_test1,y_pred3))\n",
    "print(\"confusion_matrix :\\n\",confusion_matrix(Y_test1,y_pred3))\n",
    "print(\"precision_score :\",precision_score(Y_test1,y_pred3))"
   ]
  },
  {
   "cell_type": "code",
   "execution_count": null,
   "id": "9827bbd8-aeca-4f0b-9eda-b9a434bd6942",
   "metadata": {},
   "outputs": [],
   "source": [
    "print(\"GaussianNB:\")\n",
    "gnb.fit(X_train2,Y_train2)\n",
    "y_pred1 = gnb.predict(X_test2)\n",
    "print(\"accuracy_score :\",accuracy_score(Y_test2,y_pred1))\n",
    "print(\"confusion_matrix :\\n\",confusion_matrix(Y_test2,y_pred1))\n",
    "print(\"precision_score :\",precision_score(Y_test2,y_pred1))\n",
    "\n",
    "print(\"\\nBernoulliNB:\")\n",
    "bnb.fit(X_train2,Y_train2)\n",
    "y_pred2 = bnb.predict(X_test2)\n",
    "print(\"accuracy_score :\",accuracy_score(Y_test2,y_pred2))\n",
    "print(\"confusion_matrix :\\n\",confusion_matrix(Y_test2,y_pred2))\n",
    "print(\"precision_score :\",precision_score(Y_test2,y_pred2))\n",
    "\n",
    "print(\"\\nMultinomialNB:\")\n",
    "mnb.fit(X_train2,Y_train2)\n",
    "y_pred3 = mnb.predict(X_test2)\n",
    "print(\"accuracy_score :\",accuracy_score(Y_test2,y_pred3))\n",
    "print(\"confusion_matrix :\\n\",confusion_matrix(Y_test2,y_pred3))\n",
    "print(\"precision_score :\",precision_score(Y_test2,y_pred3))"
   ]
  },
  {
   "cell_type": "code",
   "execution_count": null,
   "id": "cdd582a8-5961-436d-9692-e7893b83057c",
   "metadata": {},
   "outputs": [],
   "source": []
  },
  {
   "cell_type": "code",
   "execution_count": null,
   "id": "bdde775e-f4ff-4540-bcb4-d076b322bfe2",
   "metadata": {},
   "outputs": [],
   "source": [
    "from sklearn.linear_model import LogisticRegression\n",
    "from sklearn.svm import SVC\n",
    "from sklearn.naive_bayes import MultinomialNB\n",
    "from sklearn.tree import DecisionTreeClassifier\n",
    "from sklearn.neighbors import KNeighborsClassifier\n",
    "from sklearn.ensemble import RandomForestClassifier\n",
    "from sklearn.ensemble import AdaBoostClassifier\n",
    "from sklearn.ensemble import BaggingClassifier\n",
    "from sklearn.ensemble import ExtraTreesClassifier\n",
    "from sklearn.ensemble import GradientBoostingClassifier\n",
    "from xgboost import XGBClassifier"
   ]
  },
  {
   "cell_type": "code",
   "execution_count": null,
   "id": "3556ff9e-a5e9-482d-9085-4defa87bd701",
   "metadata": {},
   "outputs": [],
   "source": [
    "svc = SVC(kernel='sigmoid', gamma=1.0)\n",
    "knc = KNeighborsClassifier()\n",
    "mnb = MultinomialNB()\n",
    "dtc = DecisionTreeClassifier(max_depth=5)\n",
    "lrc = LogisticRegression(solver='liblinear', penalty='l1')\n",
    "rfc = RandomForestClassifier(n_estimators=50, random_state=2)\n",
    "abc = AdaBoostClassifier(n_estimators=50, random_state=2)\n",
    "bc = BaggingClassifier(n_estimators=50, random_state=2)\n",
    "etc = ExtraTreesClassifier(n_estimators=50, random_state=2)\n",
    "gbdt = GradientBoostingClassifier(n_estimators=50,random_state=2)\n",
    "xgb = XGBClassifier(n_estimators=50,random_state=2)"
   ]
  },
  {
   "cell_type": "code",
   "execution_count": null,
   "id": "9188780f-ca88-4608-9e85-0b3be063bbeb",
   "metadata": {},
   "outputs": [],
   "source": [
    "clfs = {\n",
    "    'SVC' : svc,\n",
    "    'KN' : knc, \n",
    "    'NB': mnb, \n",
    "    'DT': dtc, \n",
    "    'LR': lrc, \n",
    "    'RF': rfc, \n",
    "    'AdaBoost': abc, \n",
    "    'BgC': bc, \n",
    "    'ETC': etc,\n",
    "    'GBDT':gbdt,\n",
    "    'xgb':xgb\n",
    "}"
   ]
  },
  {
   "cell_type": "code",
   "execution_count": null,
   "id": "f738c94d-b774-4181-93ec-0987eca1c44f",
   "metadata": {},
   "outputs": [],
   "source": [
    "def train_classifier(clf,X_train,y_train,X_test,y_test):\n",
    "    clf.fit(X_train,y_train)\n",
    "    y_pred = clf.predict(X_test)\n",
    "    accuracy = accuracy_score(y_test,y_pred)\n",
    "    precision = precision_score(y_test,y_pred)\n",
    "    \n",
    "    return accuracy,precision"
   ]
  },
  {
   "cell_type": "code",
   "execution_count": null,
   "id": "8310c434-57cb-48a8-b258-60d66c6164f1",
   "metadata": {},
   "outputs": [],
   "source": [
    "accuracy_scores = []\n",
    "precision_scores = []\n",
    "\n",
    "for name,clf in clfs.items():\n",
    "    \n",
    "    current_accuracy,current_precision = train_classifier(clf, X_train,y_train,X_test,y_test)\n",
    "    \n",
    "    print(\"For \",name)\n",
    "    print(\"Accuracy - \",current_accuracy)\n",
    "    print(\"Precision - \",current_precision)\n",
    "    \n",
    "    accuracy_scores.append(current_accuracy)\n",
    "    precision_scores.append(current_precision)"
   ]
  },
  {
   "cell_type": "code",
   "execution_count": null,
   "id": "2eee1753-2f95-498f-a8a4-94b198da75f9",
   "metadata": {},
   "outputs": [],
   "source": [
    "performance_df = pd.DataFrame({'Algorithm':clfs.keys(),'Accuracy':accuracy_scores,'Precision':precision_scores}).sort_values('Precision',ascending=False)"
   ]
  },
  {
   "cell_type": "code",
   "execution_count": null,
   "id": "6c2ed6d7-9b1b-40b0-a0e3-2cf390486249",
   "metadata": {},
   "outputs": [],
   "source": [
    "performance_df"
   ]
  },
  {
   "cell_type": "code",
   "execution_count": null,
   "id": "4ec0e88b-e848-484a-8fde-448b4b63b37e",
   "metadata": {},
   "outputs": [],
   "source": [
    "performance_df1 = pd.melt(performance_df, id_vars = \"Algorithm\")\n",
    "performance_df1\n"
   ]
  }
 ],
 "metadata": {
  "kernelspec": {
   "display_name": "Python 3 (ipykernel)",
   "language": "python",
   "name": "python3"
  },
  "language_info": {
   "codemirror_mode": {
    "name": "ipython",
    "version": 3
   },
   "file_extension": ".py",
   "mimetype": "text/x-python",
   "name": "python",
   "nbconvert_exporter": "python",
   "pygments_lexer": "ipython3",
   "version": "3.12.4"
  }
 },
 "nbformat": 4,
 "nbformat_minor": 5
}
